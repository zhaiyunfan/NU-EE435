{
  "cells": [
    {
      "cell_type": "markdown",
      "metadata": {
        "id": "tOJS4unEuwiJ"
      },
      "source": [
        "# Coding CNNs from Scratch with Pytorch"
      ]
    },
    {
      "cell_type": "markdown",
      "metadata": {
        "id": "iAglL7KZu3ge"
      },
      "source": [
        "In this assignment you will code a famous CNN architecture AlexNet (https://papers.nips.cc/paper/2012/hash/c399862d3b9d6b76c8436e924a68c45b-Abstract.html) to classify images from the CIFAR10 dataset (https://www.cs.toronto.edu/~kriz/cifar.html), which consists of 10 classes of natural images such as vehicles or animals. AlexNet is a landmark architecture because it was one of the first extremely deep CNNs trained on GPUs, and achieved state-of-the-art performance in the ImageNet challenge in 2012.\n"
      ]
    },
    {
      "cell_type": "markdown",
      "metadata": {
        "id": "nv77OEtlxuP8"
      },
      "source": [
        "A lot of code will already be written to familiarize yourself with PyTorch, but you will have to fill in parts that will apply your knowledge of CNNs. Additionally, there are some numbered questions that you must answer either in a separate document, or in this notebook. Some questions may require you to do a little research. To type in the notebook, you can insert a text cell."
      ]
    },
    {
      "cell_type": "markdown",
      "metadata": {
        "id": "dr5aNOagwwm5"
      },
      "source": [
        "Let's start by installing PyTorch and the torchvision package below. Due to the size of the network, you will have to run on a GPU. So, click on the Runtime dropdown, then Change Runtime Type, then GPU for the hardware accelerator."
      ]
    },
    {
      "cell_type": "code",
      "execution_count": 1,
      "metadata": {
        "id": "HXnfRg4IulGd"
      },
      "outputs": [
        {
          "name": "stdout",
          "output_type": "stream",
          "text": [
            "Looking in indexes: https://download.pytorch.org/whl/cu118\n",
            "Requirement already satisfied: torch in c:\\users\\zhaiy\\iclouddrive\\northwestern\\lecture\\ee 435\\homework\\nu-ee435\\.venv\\lib\\site-packages (2.3.0+cu118)\n",
            "Requirement already satisfied: torchvision in c:\\users\\zhaiy\\iclouddrive\\northwestern\\lecture\\ee 435\\homework\\nu-ee435\\.venv\\lib\\site-packages (0.18.0)\n",
            "Requirement already satisfied: torchaudio in c:\\users\\zhaiy\\iclouddrive\\northwestern\\lecture\\ee 435\\homework\\nu-ee435\\.venv\\lib\\site-packages (2.3.0+cu118)\n",
            "Requirement already satisfied: filelock in c:\\users\\zhaiy\\iclouddrive\\northwestern\\lecture\\ee 435\\homework\\nu-ee435\\.venv\\lib\\site-packages (from torch) (3.14.0)\n",
            "Requirement already satisfied: typing-extensions>=4.8.0 in c:\\users\\zhaiy\\iclouddrive\\northwestern\\lecture\\ee 435\\homework\\nu-ee435\\.venv\\lib\\site-packages (from torch) (4.11.0)\n",
            "Requirement already satisfied: sympy in c:\\users\\zhaiy\\iclouddrive\\northwestern\\lecture\\ee 435\\homework\\nu-ee435\\.venv\\lib\\site-packages (from torch) (1.12)\n",
            "Requirement already satisfied: networkx in c:\\users\\zhaiy\\iclouddrive\\northwestern\\lecture\\ee 435\\homework\\nu-ee435\\.venv\\lib\\site-packages (from torch) (3.3)\n",
            "Requirement already satisfied: jinja2 in c:\\users\\zhaiy\\iclouddrive\\northwestern\\lecture\\ee 435\\homework\\nu-ee435\\.venv\\lib\\site-packages (from torch) (3.1.3)\n",
            "Requirement already satisfied: fsspec in c:\\users\\zhaiy\\iclouddrive\\northwestern\\lecture\\ee 435\\homework\\nu-ee435\\.venv\\lib\\site-packages (from torch) (2024.5.0)\n",
            "Requirement already satisfied: mkl<=2021.4.0,>=2021.1.1 in c:\\users\\zhaiy\\iclouddrive\\northwestern\\lecture\\ee 435\\homework\\nu-ee435\\.venv\\lib\\site-packages (from torch) (2021.4.0)\n",
            "Requirement already satisfied: numpy in c:\\users\\zhaiy\\iclouddrive\\northwestern\\lecture\\ee 435\\homework\\nu-ee435\\.venv\\lib\\site-packages (from torchvision) (1.26.4)\n",
            "Requirement already satisfied: pillow!=8.3.*,>=5.3.0 in c:\\users\\zhaiy\\iclouddrive\\northwestern\\lecture\\ee 435\\homework\\nu-ee435\\.venv\\lib\\site-packages (from torchvision) (10.3.0)\n",
            "Requirement already satisfied: intel-openmp==2021.* in c:\\users\\zhaiy\\iclouddrive\\northwestern\\lecture\\ee 435\\homework\\nu-ee435\\.venv\\lib\\site-packages (from mkl<=2021.4.0,>=2021.1.1->torch) (2021.4.0)\n",
            "Requirement already satisfied: tbb==2021.* in c:\\users\\zhaiy\\iclouddrive\\northwestern\\lecture\\ee 435\\homework\\nu-ee435\\.venv\\lib\\site-packages (from mkl<=2021.4.0,>=2021.1.1->torch) (2021.12.0)\n",
            "Requirement already satisfied: MarkupSafe>=2.0 in c:\\users\\zhaiy\\iclouddrive\\northwestern\\lecture\\ee 435\\homework\\nu-ee435\\.venv\\lib\\site-packages (from jinja2->torch) (2.1.5)\n",
            "Requirement already satisfied: mpmath>=0.19 in c:\\users\\zhaiy\\iclouddrive\\northwestern\\lecture\\ee 435\\homework\\nu-ee435\\.venv\\lib\\site-packages (from sympy->torch) (1.3.0)\n"
          ]
        }
      ],
      "source": [
        "!python -m pip install torch torchvision torchaudio --index-url https://download.pytorch.org/whl/cu118"
      ]
    },
    {
      "cell_type": "code",
      "execution_count": 2,
      "metadata": {
        "id": "VtC0KJcdufBE"
      },
      "outputs": [
        {
          "name": "stdout",
          "output_type": "stream",
          "text": [
            "cuda\n"
          ]
        }
      ],
      "source": [
        "import torch\n",
        "import torch.nn as nn\n",
        "import matplotlib.pyplot as plt\n",
        "\n",
        "\n",
        "# device = torch.device('cuda')\n",
        "\n",
        "# print(device)\n",
        "\n",
        "# Check if CUDA is available and set the device accordingly\n",
        "device = torch.device(\"cuda\" if torch.cuda.is_available() else \"cpu\")\n",
        "\n",
        "print(device)"
      ]
    },
    {
      "cell_type": "code",
      "execution_count": 3,
      "metadata": {},
      "outputs": [
        {
          "name": "stdout",
          "output_type": "stream",
          "text": [
            "Thu May 16 17:50:55 2024       \n",
            "+---------------------------------------------------------------------------------------+\n",
            "| NVIDIA-SMI 546.65                 Driver Version: 546.65       CUDA Version: 12.3     |\n",
            "|-----------------------------------------+----------------------+----------------------+\n",
            "| GPU  Name                     TCC/WDDM  | Bus-Id        Disp.A | Volatile Uncorr. ECC |\n",
            "| Fan  Temp   Perf          Pwr:Usage/Cap |         Memory-Usage | GPU-Util  Compute M. |\n",
            "|                                         |                      |               MIG M. |\n",
            "|=========================================+======================+======================|\n",
            "|   0  NVIDIA GeForce RTX 3060 Ti   WDDM  | 00000000:01:00.0  On |                  N/A |\n",
            "| 30%   37C    P5              28W / 200W |    971MiB /  8192MiB |      6%      Default |\n",
            "|                                         |                      |                  N/A |\n",
            "+-----------------------------------------+----------------------+----------------------+\n",
            "                                                                                         \n",
            "+---------------------------------------------------------------------------------------+\n",
            "| Processes:                                                                            |\n",
            "|  GPU   GI   CI        PID   Type   Process name                            GPU Memory |\n",
            "|        ID   ID                                                             Usage      |\n",
            "|=======================================================================================|\n",
            "|    0   N/A  N/A      1496    C+G   ...CBS_cw5n1h2txyewy\\TextInputHost.exe    N/A      |\n",
            "|    0   N/A  N/A      2928    C+G   ...GeForce Experience\\NVIDIA Share.exe    N/A      |\n",
            "|    0   N/A  N/A      3084    C+G   ...5n1h2txyewy\\ShellExperienceHost.exe    N/A      |\n",
            "|    0   N/A  N/A      7904    C+G   C:\\Windows\\explorer.exe                   N/A      |\n",
            "|    0   N/A  N/A      9560    C+G   ...nt.CBS_cw5n1h2txyewy\\SearchHost.exe    N/A      |\n",
            "|    0   N/A  N/A      9592    C+G   ...2txyewy\\StartMenuExperienceHost.exe    N/A      |\n",
            "|    0   N/A  N/A     13260    C+G   ...t.LockApp_cw5n1h2txyewy\\LockApp.exe    N/A      |\n",
            "|    0   N/A  N/A     13704    C+G   ...ekyb3d8bbwe\\PhoneExperienceHost.exe    N/A      |\n",
            "|    0   N/A  N/A     14152    C+G   ...siveControlPanel\\SystemSettings.exe    N/A      |\n",
            "|    0   N/A  N/A     18628    C+G   C:\\Program Files\\Tencent\\QQNT\\QQ.exe      N/A      |\n",
            "|    0   N/A  N/A     18892    C+G   ...9\\extracted\\runtime\\WeChatAppEx.exe    N/A      |\n",
            "|    0   N/A  N/A     20544    C+G   ...al\\Discord\\app-1.0.9147\\Discord.exe    N/A      |\n",
            "|    0   N/A  N/A     21712    C+G   ...\\Local\\slack\\app-4.38.125\\slack.exe    N/A      |\n",
            "|    0   N/A  N/A     21720    C+G   ...nzyj5cx40ttqa\\iCloud\\iCloudHome.exe    N/A      |\n",
            "|    0   N/A  N/A     22440    C+G   ...meCenter\\dlls\\wgc_renderer_host.exe    N/A      |\n",
            "|    0   N/A  N/A     23364    C+G   ...Programs\\Microsoft VS Code\\Code.exe    N/A      |\n",
            "|    0   N/A  N/A     23560    C+G   C:\\Windows\\System32\\mmgaserver.exe        N/A      |\n",
            "|    0   N/A  N/A     24252    C+G   ...yj5cx40ttqa\\iCloud\\iCloudPhotos.exe    N/A      |\n",
            "|    0   N/A  N/A     25296    C+G   ...nipaste-2.8.5-Beta-x64\\Snipaste.exe    N/A      |\n",
            "|    0   N/A  N/A     27160    C+G   ...esktop\\app-3.3.14\\GitHubDesktop.exe    N/A      |\n",
            "+---------------------------------------------------------------------------------------+\n"
          ]
        }
      ],
      "source": [
        "!nvidia-smi"
      ]
    },
    {
      "cell_type": "markdown",
      "metadata": {
        "id": "5DML-S0AX-_o"
      },
      "source": [
        "### 1. In the following cell, we are employing something called \"data augmentation\" with random horizontal and vertical flips. So when training data is fed into the network, it is ranadomly transformed. What are advantages of this?\n",
        "\n",
        "### 2. We normalize with the line transforms.Normalize((0.5,), (0.5,)). What are the benefits of normalizing data?\n",
        "\n",
        "\n"
      ]
    },
    {
      "cell_type": "markdown",
      "metadata": {},
      "source": [
        "1. Data augmentation, such as random horizontal and vertical flips, increases the diversity of the training dataset without collecting more data. This technique helps the model generalize better to new, unseen data by preventing overfitting. By presenting various transformations of the images, the model learns to recognize objects in different orientations, which makes it more robust. Moreover, this approach helps the model become invariant to these transformations, enhancing its ability to perform well in real-world scenarios where objects may appear in different orientations.\n",
        "\n",
        "2. Normalizing data with transforms.Normalize((0.5,), (0.5,)) scales the input data to have a mean of 0 and a standard deviation of 1. This standardization is crucial for several reasons. First, it speeds up the convergence of gradient descent during training by ensuring that all input features are on a similar scale. Second, it helps avoid issues related to numerical instability and exploding/vanishing gradients, making the training process more stable. Finally, normalization ensures that the network learns weights more effectively, leading to better performance and faster training."
      ]
    },
    {
      "cell_type": "code",
      "execution_count": 4,
      "metadata": {
        "id": "eruiC4sAufBL"
      },
      "outputs": [
        {
          "name": "stdout",
          "output_type": "stream",
          "text": [
            "Files already downloaded and verified\n",
            "Files already downloaded and verified\n",
            "40000 10000\n"
          ]
        },
        {
          "data": {
            "text/plain": [
              "400"
            ]
          },
          "execution_count": 4,
          "metadata": {},
          "output_type": "execute_result"
        }
      ],
      "source": [
        "import torchvision\n",
        "import torchvision.transforms as transforms\n",
        "from torch.utils.data import random_split\n",
        "from math import ceil\n",
        "\n",
        "BATCH_SIZE = 100\n",
        "\n",
        "\n",
        "transform = transforms.Compose(\n",
        "    [transforms.ToTensor(),\n",
        "     transforms.RandomHorizontalFlip(p=0.5),\n",
        "     transforms.RandomVerticalFlip(p=0.5),\n",
        "     transforms.Normalize((0.5,), (0.5,))])\n",
        "\n",
        "trainset = torchvision.datasets.CIFAR10(root='./data', train=True,\n",
        "                                        download=True, transform=transform)\n",
        "\n",
        "testset = torchvision.datasets.CIFAR10(root='./data', train=False,\n",
        "                                       download=True, transform=transform)\n",
        "\n",
        "torch.manual_seed(43)\n",
        "val_size = 10000\n",
        "train_size = len(trainset) - val_size\n",
        "\n",
        "\n",
        "train_ds, val_ds = random_split(trainset, [train_size, val_size])\n",
        "print(len(train_ds), len(val_ds))\n",
        "\n",
        "\n",
        "classes = ('plane', 'car', 'bird', 'cat',\n",
        "           'deer', 'dog', 'frog', 'horse', 'ship', 'truck')\n",
        "\n",
        "num_steps =  ceil(len(train_ds) / BATCH_SIZE)\n",
        "num_steps"
      ]
    },
    {
      "cell_type": "code",
      "execution_count": 5,
      "metadata": {
        "id": "NLzuKuJxufBM"
      },
      "outputs": [],
      "source": [
        "train_loader = torch.utils.data.DataLoader(train_ds, BATCH_SIZE, shuffle=True, drop_last = True)\n",
        "val_loader = torch.utils.data.DataLoader(val_ds, BATCH_SIZE)\n",
        "test_loader = torch.utils.data.DataLoader(testset, BATCH_SIZE)"
      ]
    },
    {
      "cell_type": "markdown",
      "metadata": {
        "id": "7rT3aDd7aVLm"
      },
      "source": [
        "You can insert an integer  into the code trainset[#insert integer] to visualize images from the training set. Some of the images might look weird because they have been randomly flipped according to our data augmentation scheme."
      ]
    },
    {
      "cell_type": "code",
      "execution_count": 6,
      "metadata": {
        "colab": {
          "base_uri": "https://localhost:8080/",
          "height": 300
        },
        "id": "wV-W2b6eZaoG",
        "outputId": "59486fe1-2667-4bf1-b7af-84a647899b83"
      },
      "outputs": [
        {
          "name": "stdout",
          "output_type": "stream",
          "text": [
            "Label (numeric): 6\n",
            "Label (textual): frog\n"
          ]
        },
        {
          "data": {
            "image/png": "[encoded data removed]",
            "text/plain": [
              "<Figure size 640x480 with 1 Axes>"
            ]
          },
          "metadata": {},
          "output_type": "display_data"
        }
      ],
      "source": [
        "img, label = trainset[0]\n",
        "plt.imshow((img.permute((1, 2, 0))+1)/2)\n",
        "print('Label (numeric):', label)\n",
        "print('Label (textual):', classes[label])"
      ]
    },
    {
      "cell_type": "markdown",
      "metadata": {
        "id": "wVLQM7ODamEm"
      },
      "source": [
        "Now comes the fun part. You will have to put in the correct parameters into different torch.nn functions in order to convolve and downsample the image into the correct dimensionality for classification. Think of it as a puzzle. You will insert the parameters where there is a comment #TODO."
      ]
    },
    {
      "cell_type": "code",
      "execution_count": 7,
      "metadata": {
        "id": "ohY_5zoBufBN"
      },
      "outputs": [],
      "source": [
        "class Discriminator(torch.nn.Module):\n",
        "\n",
        "    def __init__(self):\n",
        "        super(Discriminator, self).__init__()\n",
        "        self.features = nn.Sequential(\n",
        "            nn.Conv2d(in_channels = 3,\n",
        "                      out_channels = 64,\n",
        "                      kernel_size=3, stride=2, padding=1),\n",
        "            nn.ReLU(inplace=True),\n",
        "            nn.MaxPool2d(kernel_size=2),\n",
        "            nn.Conv2d(64, 192, kernel_size=3,\n",
        "                      padding=1),\n",
        "            nn.ReLU(inplace=True),\n",
        "            nn.MaxPool2d(kernel_size=2),\n",
        "            nn.Conv2d(192,\n",
        "                      384,\n",
        "                      kernel_size=3, padding=1),\n",
        "            nn.ReLU(inplace=True),\n",
        "            nn.Conv2d(384, 256, kernel_size=3, padding=1),\n",
        "            nn.ReLU(inplace=True),\n",
        "            nn.Conv2d(256, 256, kernel_size=3, padding=1),\n",
        "            nn.ReLU(inplace=True),\n",
        "            nn.MaxPool2d(kernel_size=2),\n",
        "        )\n",
        "\n",
        "        # Calculate the number of features after the convolutional layers\n",
        "        self._initialize_linear_input_features()\n",
        "\n",
        "        # Fully connected layers\n",
        "        self.classifier = nn.Sequential(\n",
        "            nn.Dropout(),\n",
        "            nn.Linear(self.num_features, 4096),\n",
        "            nn.ReLU(inplace=True),\n",
        "            nn.Dropout(),\n",
        "            nn.Linear(4096, 4096),\n",
        "            nn.ReLU(inplace=True),\n",
        "            nn.Linear(4096, 10),\n",
        "        )\n",
        "\n",
        "    def _initialize_linear_input_features(self):\n",
        "        with torch.no_grad():\n",
        "            dummy_input = torch.zeros(\n",
        "                1, 3, 32, 32\n",
        "            ) # specify the input size of our network\n",
        "            features = self.features(dummy_input)\n",
        "            self.num_features = features.view(1, -1).size(1)\n",
        "\n",
        "    def forward(self, x):\n",
        "        x = self.features(x)\n",
        "        # we must flatten our feature maps before feeding into fully connected layers\n",
        "        x = x.contiguous().view(x.size(0), -1)\n",
        "        x = self.classifier(x)\n",
        "        return x"
      ]
    },
    {
      "cell_type": "markdown",
      "metadata": {
        "id": "Bw2ZfQfAeZum"
      },
      "source": [
        "Below we are initializing our model with a weight scheme."
      ]
    },
    {
      "cell_type": "code",
      "execution_count": 8,
      "metadata": {
        "id": "AlUFRnhZufBN"
      },
      "outputs": [
        {
          "data": {
            "text/plain": [
              "Discriminator(\n",
              "  (features): Sequential(\n",
              "    (0): Conv2d(3, 64, kernel_size=(3, 3), stride=(2, 2), padding=(1, 1))\n",
              "    (1): ReLU(inplace=True)\n",
              "    (2): MaxPool2d(kernel_size=2, stride=2, padding=0, dilation=1, ceil_mode=False)\n",
              "    (3): Conv2d(64, 192, kernel_size=(3, 3), stride=(1, 1), padding=(1, 1))\n",
              "    (4): ReLU(inplace=True)\n",
              "    (5): MaxPool2d(kernel_size=2, stride=2, padding=0, dilation=1, ceil_mode=False)\n",
              "    (6): Conv2d(192, 384, kernel_size=(3, 3), stride=(1, 1), padding=(1, 1))\n",
              "    (7): ReLU(inplace=True)\n",
              "    (8): Conv2d(384, 256, kernel_size=(3, 3), stride=(1, 1), padding=(1, 1))\n",
              "    (9): ReLU(inplace=True)\n",
              "    (10): Conv2d(256, 256, kernel_size=(3, 3), stride=(1, 1), padding=(1, 1))\n",
              "    (11): ReLU(inplace=True)\n",
              "    (12): MaxPool2d(kernel_size=2, stride=2, padding=0, dilation=1, ceil_mode=False)\n",
              "  )\n",
              "  (classifier): Sequential(\n",
              "    (0): Dropout(p=0.5, inplace=False)\n",
              "    (1): Linear(in_features=1024, out_features=4096, bias=True)\n",
              "    (2): ReLU(inplace=True)\n",
              "    (3): Dropout(p=0.5, inplace=False)\n",
              "    (4): Linear(in_features=4096, out_features=4096, bias=True)\n",
              "    (5): ReLU(inplace=True)\n",
              "    (6): Linear(in_features=4096, out_features=10, bias=True)\n",
              "  )\n",
              ")"
            ]
          },
          "execution_count": 8,
          "metadata": {},
          "output_type": "execute_result"
        }
      ],
      "source": [
        "net = Discriminator()\n",
        "\n",
        "def weights_init(m):\n",
        "\n",
        "    classname = m.__class__.__name__\n",
        "\n",
        "    if classname.find('Conv') != -1:\n",
        "        torch.nn.init.normal_(m.weight.data, 0.0, 0.02)\n",
        "\n",
        "    elif classname.find('BatchNorm') != -1:\n",
        "        torch.nn.init.normal_(m.weight.data, 1.0, 0.02)\n",
        "        torch.nn.init.constant_(m.bias.data, 0)\n",
        "\n",
        "\n",
        "# Initialize Models\n",
        "net = net.to(device)\n",
        "\n",
        "net.apply(weights_init)\n",
        "\n"
      ]
    },
    {
      "cell_type": "markdown",
      "metadata": {
        "id": "tFBRnApFfZUr"
      },
      "source": [
        "# 3. Notice above in our network architecture, we have what are called \"Dropout\" layers. What is the point of these?"
      ]
    },
    {
      "cell_type": "markdown",
      "metadata": {},
      "source": [
        "3. Dropout layers are a regularization technique used in neural networks to prevent overfitting. During training, dropout randomly \"drops\" a fraction of neurons, setting their output to zero. This forces the network to learn more robust features, as it can't rely on any single neuron. By doing this, the network generalizes better to unseen data, improving its performance on the test set. In essence, dropout helps the network avoid becoming too tailored to the training data and instead learn patterns that are more widely applicable."
      ]
    },
    {
      "cell_type": "markdown",
      "metadata": {
        "id": "IqzRwTN-febi"
      },
      "source": [
        "Defining our cost/loss function, which is cross-entropy loss. We also define our optimizer with hyperparameters: learning rate and betas."
      ]
    },
    {
      "cell_type": "code",
      "execution_count": 9,
      "metadata": {
        "id": "sNvPJc_PufBN"
      },
      "outputs": [],
      "source": [
        "import torch.optim as optim\n",
        "\n",
        "criterion = torch.nn.CrossEntropyLoss()\n",
        "optimizer = torch.optim.Adam(\n",
        "    net.parameters(),\n",
        "    lr=0.0002,\n",
        "    betas = (0.5, 0.999)\n",
        ")\n"
      ]
    },
    {
      "cell_type": "markdown",
      "metadata": {
        "id": "JR6xLm7KiR3p"
      },
      "source": [
        "Below we actually train our network. Run for just 10 epochs. It takes some time. Wherever there is the comment #TODO, you must insert code."
      ]
    },
    {
      "cell_type": "code",
      "execution_count": 10,
      "metadata": {
        "id": "2VwEjNs3ufBO"
      },
      "outputs": [
        {
          "name": "stdout",
          "output_type": "stream",
          "text": [
            "E:1, Train Loss:1.9267987021803856\n",
            "Accuracy of 10000 val images: 0.3369\n",
            "Val Loss: 0.43540037512779234\n",
            "E:2, Train Loss:1.577186998128891\n",
            "Accuracy of 10000 val images: 0.4601\n",
            "Val Loss: 0.3608863279223442\n",
            "E:3, Train Loss:1.402827124297619\n",
            "Accuracy of 10000 val images: 0.4822\n",
            "Val Loss: 0.3492458724975586\n",
            "E:4, Train Loss:1.2843626663088799\n",
            "Accuracy of 10000 val images: 0.5251\n",
            "Val Loss: 0.3230030071735382\n",
            "E:5, Train Loss:1.184310462921858\n",
            "Accuracy of 10000 val images: 0.5722\n",
            "Val Loss: 0.2963975059986115\n",
            "E:6, Train Loss:1.1096938508749008\n",
            "Accuracy of 10000 val images: 0.591\n",
            "Val Loss: 0.28300827845931054\n",
            "E:7, Train Loss:1.0468915204703808\n",
            "Accuracy of 10000 val images: 0.597\n",
            "Val Loss: 0.28580799102783205\n",
            "E:8, Train Loss:0.9906741769611835\n",
            "Accuracy of 10000 val images: 0.5958\n",
            "Val Loss: 0.2820750530064106\n",
            "E:9, Train Loss:0.93946278616786\n",
            "Accuracy of 10000 val images: 0.6284\n",
            "Val Loss: 0.2618029835820198\n",
            "E:10, Train Loss:0.8902475713193416\n",
            "Accuracy of 10000 val images: 0.6444\n",
            "Val Loss: 0.2531955054402351\n",
            "E:11, Train Loss:0.8488996098935604\n",
            "Accuracy of 10000 val images: 0.6499\n",
            "Val Loss: 0.2508987531065941\n",
            "E:12, Train Loss:0.805747145563364\n",
            "Accuracy of 10000 val images: 0.6618\n",
            "Val Loss: 0.24271347984671593\n",
            "E:13, Train Loss:0.7709059642255306\n",
            "Accuracy of 10000 val images: 0.644\n",
            "Val Loss: 0.2526468175649643\n",
            "E:14, Train Loss:0.7262264236807823\n",
            "Accuracy of 10000 val images: 0.6678\n",
            "Val Loss: 0.2411696757376194\n",
            "E:15, Train Loss:0.695579390078783\n",
            "Accuracy of 10000 val images: 0.6826\n",
            "Val Loss: 0.2359524643421173\n",
            "E:16, Train Loss:0.6570892688632012\n",
            "Accuracy of 10000 val images: 0.6837\n",
            "Val Loss: 0.22907041296362876\n",
            "E:17, Train Loss:0.6298246267437935\n",
            "Accuracy of 10000 val images: 0.6801\n",
            "Val Loss: 0.23828564956784248\n",
            "E:18, Train Loss:0.5942474261671304\n",
            "Accuracy of 10000 val images: 0.6876\n",
            "Val Loss: 0.23742693290114403\n",
            "E:19, Train Loss:0.5644176856428385\n",
            "Accuracy of 10000 val images: 0.689\n",
            "Val Loss: 0.22997823387384414\n",
            "E:20, Train Loss:0.5388002382218837\n",
            "Accuracy of 10000 val images: 0.6998\n",
            "Val Loss: 0.23052080050110818\n",
            "Finished Training\n"
          ]
        }
      ],
      "source": [
        "for epoch in range(20):  # loop over the dataset multiple times\n",
        "\n",
        "    running_loss = 0.0\n",
        "    for i, data in enumerate(train_loader, 0):\n",
        "        # get the inputs; data is a list of [inputs, labels]\n",
        "        inputs, labels = data\n",
        "        inputs = inputs.to(device)\n",
        "        labels = labels.to(device)\n",
        "\n",
        "        # zero the parameter gradients\n",
        "        optimizer.zero_grad()\n",
        "        # forward + backward + optimize\n",
        "        outputs = net(inputs)     #pass input data into network to get outputs\n",
        "        loss = criterion(outputs, labels)\n",
        "        loss.backward()  #calculate gradients\n",
        "        optimizer.step() #take gradient descent step\n",
        "\n",
        "        running_loss += loss.item()\n",
        "\n",
        "    print(\"E:{}, Train Loss:{}\".format(\n",
        "                epoch+1,\n",
        "                running_loss / num_steps\n",
        "            )\n",
        "        )\n",
        "\n",
        "    # validation\n",
        "    correct = 0\n",
        "    total = 0\n",
        "    val_loss = 0.0\n",
        "    with torch.no_grad():\n",
        "        for data in val_loader:\n",
        "            # TODO: load images and labels from validation loader\n",
        "            images, labels = data\n",
        "            images = images.to(device)\n",
        "            labels = labels.to(device)\n",
        "            outputs = net(images)  # run forward pass\n",
        "            _, predicted = torch.max(outputs.data, 1)\n",
        "            total += labels.size(0)\n",
        "            correct += (predicted == labels).sum().item()\n",
        "\n",
        "            loss = criterion(outputs, labels)       #calculate validation loss\n",
        "            val_loss += loss.item()\n",
        "    val_loss /=num_steps\n",
        "    print('Accuracy of 10000 val images: {}'.format( correct / total))\n",
        "    print('Val Loss: {}'.format( val_loss))\n",
        "\n",
        "print('Finished Training')"
      ]
    },
    {
      "cell_type": "markdown",
      "metadata": {
        "id": "9sKf8Lu-mGYd"
      },
      "source": [
        "## 4. If we train for more epochs, our accuracy/performance will increase. What happens if we train for too long though? What method can be employed to mitigate this?\n",
        "\n",
        "## 5. Try increasing learning rate and look at the metrics for training and validation data? What do you notice? Why do think this is happening?\n",
        "\n"
      ]
    },
    {
      "cell_type": "markdown",
      "metadata": {},
      "source": [
        "4. Training for too long can lead to overfitting, where the model learns the noise and details in the training data to the extent that it performs poorly on new, unseen data. To mitigate this, we can use techniques like early stopping, which monitors the validation performance and stops training when performance no longer improves. Regularization methods like dropout and weight decay can also help prevent overfitting by adding constraints that keep the model from becoming too complex.\n",
        "\n",
        "5. Increasing the learning rate often leads to faster convergence initially, but it can also cause the training process to become unstable. You might notice that the training loss fluctuates or increases, and the validation performance might degrade. This happens because a high learning rate can cause the model to overshoot the optimal weights, making it difficult for the gradient descent algorithm to settle into a minimum. Reducing the learning rate can help achieve more stable and reliable convergence."
      ]
    },
    {
      "cell_type": "markdown",
      "metadata": {
        "id": "Lz31Vm2XmM7p"
      },
      "source": [
        "We can see the performance on the testing set now."
      ]
    },
    {
      "cell_type": "code",
      "execution_count": 11,
      "metadata": {
        "id": "SNLMA4oIufBO"
      },
      "outputs": [
        {
          "name": "stdout",
          "output_type": "stream",
          "text": [
            "Accuracy of 10000 test images: 0.6971\n"
          ]
        }
      ],
      "source": [
        "correct = 0\n",
        "total = 0\n",
        "with torch.no_grad():\n",
        "    for data in test_loader:\n",
        "        images, labels = data\n",
        "        images = images.to(device)\n",
        "        labels = labels.to(device)\n",
        "        outputs = net(images)\n",
        "        _, predicted = torch.max(outputs.data, 1)\n",
        "        total += labels.size(0)\n",
        "        correct += (predicted == labels).sum().item()\n",
        "\n",
        "print('Accuracy of 10000 test images: {}'.format( correct / total))"
      ]
    }
  ],
  "metadata": {
    "colab": {
      "provenance": []
    },
    "kernelspec": {
      "display_name": "Python 3",
      "language": "python",
      "name": "python3"
    },
    "language_info": {
      "codemirror_mode": {
        "name": "ipython",
        "version": 3
      },
      "file_extension": ".py",
      "mimetype": "text/x-python",
      "name": "python",
      "nbconvert_exporter": "python",
      "pygments_lexer": "ipython3",
      "version": "3.11.9"
    }
  },
  "nbformat": 4,
  "nbformat_minor": 0
}
